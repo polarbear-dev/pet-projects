{
 "cells": [
  {
   "cell_type": "markdown",
   "metadata": {},
   "source": [
    "Importing libraries"
   ]
  },
  {
   "cell_type": "code",
   "execution_count": 1,
   "metadata": {},
   "outputs": [],
   "source": [
    "import pandas as pd\n",
    "import numpy as np"
   ]
  },
  {
   "cell_type": "markdown",
   "metadata": {},
   "source": [
    "Reading data"
   ]
  },
  {
   "cell_type": "code",
   "execution_count": 2,
   "metadata": {},
   "outputs": [],
   "source": [
    "customers = pd.read_csv('olist_customers_dataset.csv')\n",
    "orders = pd.read_csv('olist_orders_dataset.csv')\n",
    "items = pd.read_csv('olist_order_items_dataset.csv')"
   ]
  },
  {
   "cell_type": "markdown",
   "metadata": {},
   "source": [
    "# Data preprocessing"
   ]
  },
  {
   "cell_type": "markdown",
   "metadata": {},
   "source": [
    "Сheck for duplicates:"
   ]
  },
  {
   "cell_type": "code",
   "execution_count": 3,
   "metadata": {},
   "outputs": [
    {
     "data": {
      "text/plain": [
       "True"
      ]
     },
     "execution_count": 3,
     "metadata": {},
     "output_type": "execute_result"
    }
   ],
   "source": [
    "customers.shape[0] == customers.customer_id.nunique()"
   ]
  },
  {
   "cell_type": "code",
   "execution_count": 4,
   "metadata": {},
   "outputs": [
    {
     "data": {
      "text/plain": [
       "True"
      ]
     },
     "execution_count": 4,
     "metadata": {},
     "output_type": "execute_result"
    }
   ],
   "source": [
    "orders.shape[0] == orders.order_id.nunique()"
   ]
  },
  {
   "cell_type": "markdown",
   "metadata": {},
   "source": [
    "Сombining dataframes for further analysis:"
   ]
  },
  {
   "cell_type": "code",
   "execution_count": 5,
   "metadata": {},
   "outputs": [],
   "source": [
    "data = orders.merge(customers, on = 'customer_id')"
   ]
  },
  {
   "cell_type": "code",
   "execution_count": 6,
   "metadata": {},
   "outputs": [
    {
     "data": {
      "text/plain": [
       "order_id                         object\n",
       "customer_id                      object\n",
       "order_status                     object\n",
       "order_purchase_timestamp         object\n",
       "order_approved_at                object\n",
       "order_delivered_carrier_date     object\n",
       "order_delivered_customer_date    object\n",
       "order_estimated_delivery_date    object\n",
       "customer_unique_id               object\n",
       "customer_zip_code_prefix          int64\n",
       "customer_city                    object\n",
       "customer_state                   object\n",
       "dtype: object"
      ]
     },
     "execution_count": 6,
     "metadata": {},
     "output_type": "execute_result"
    }
   ],
   "source": [
    "data.dtypes"
   ]
  },
  {
   "cell_type": "markdown",
   "metadata": {},
   "source": [
    "Replacing the data type with datetime for date columns:"
   ]
  },
  {
   "cell_type": "code",
   "execution_count": 7,
   "metadata": {},
   "outputs": [],
   "source": [
    "data[['order_purchase_timestamp', \n",
    "      'order_approved_at', \n",
    "      'order_delivered_carrier_date', \n",
    "      'order_delivered_customer_date', \n",
    "      'order_estimated_delivery_date']] = data[['order_purchase_timestamp', \n",
    "                                                'order_approved_at', \n",
    "                                                'order_delivered_carrier_date', \n",
    "                                                'order_delivered_customer_date', \n",
    "                                                'order_estimated_delivery_date']].apply(pd.to_datetime)"
   ]
  },
  {
   "cell_type": "markdown",
   "metadata": {},
   "source": [
    "We consider only orders with the \"delivered\" status to be purchases, since in all other cases orders can be canceled"
   ]
  },
  {
   "cell_type": "code",
   "execution_count": 8,
   "metadata": {},
   "outputs": [],
   "source": [
    "d_data = data[data.order_status == \"delivered\"]"
   ]
  },
  {
   "cell_type": "markdown",
   "metadata": {},
   "source": [
    "**1. How many users have made a purchase only once?**"
   ]
  },
  {
   "cell_type": "code",
   "execution_count": 9,
   "metadata": {},
   "outputs": [
    {
     "data": {
      "text/plain": [
       "90557"
      ]
     },
     "execution_count": 9,
     "metadata": {},
     "output_type": "execute_result"
    }
   ],
   "source": [
    "(d_data.customer_unique_id.value_counts() == 1).sum()"
   ]
  },
  {
   "cell_type": "markdown",
   "metadata": {},
   "source": [
    "**2. How many orders per month on average are not delivered for various reasons (provide a breakdown by reasons)?**"
   ]
  },
  {
   "cell_type": "markdown",
   "metadata": {},
   "source": [
    "We consider orders with the status \"canceled\" or \"unavailable\" to be undelivered:"
   ]
  },
  {
   "cell_type": "code",
   "execution_count": 10,
   "metadata": {},
   "outputs": [],
   "source": [
    "not_delivered_1 = data[data.order_status == \"canceled\"]\n",
    "not_delivered_2 = data[data.order_status == \"unavailable\"]"
   ]
  },
  {
   "cell_type": "code",
   "execution_count": 11,
   "metadata": {
    "scrolled": true
   },
   "outputs": [],
   "source": [
    "x = not_delivered_1.groupby(not_delivered_1.order_purchase_timestamp.dt.month) \\\n",
    "             .agg({'order_id': 'count'}) \\\n",
    "             .mean() \\\n",
    "             .round(0)\n",
    "y = not_delivered_2.groupby(not_delivered_2.order_purchase_timestamp.dt.month) \\\n",
    "             .agg({'order_id': 'count'}) \\\n",
    "             .mean() \\\n",
    "             .round(0)"
   ]
  },
  {
   "cell_type": "markdown",
   "metadata": {},
   "source": [
    "We calculate the average number of orders per month for each group"
   ]
  },
  {
   "cell_type": "code",
   "execution_count": 12,
   "metadata": {},
   "outputs": [
    {
     "name": "stdout",
     "output_type": "stream",
     "text": [
      "Average number of undelivered orders per month: 103\n",
      "Average number of canceled orders per month: 52\n",
      "Average number of unavailable orders per month: 51\n"
     ]
    }
   ],
   "source": [
    "print('Average number of undelivered orders per month:', int((x+y).iloc[0]))\n",
    "print('Average number of canceled orders per month:', int(x.iloc[0]))\n",
    "print('Average number of unavailable orders per month:', int(y.iloc[0]))"
   ]
  },
  {
   "cell_type": "markdown",
   "metadata": {},
   "source": [
    "Сhecking the latest dataframe for duplicates"
   ]
  },
  {
   "cell_type": "code",
   "execution_count": 13,
   "metadata": {},
   "outputs": [
    {
     "data": {
      "text/plain": [
       "0"
      ]
     },
     "execution_count": 13,
     "metadata": {},
     "output_type": "execute_result"
    }
   ],
   "source": [
    "items.duplicated().sum()"
   ]
  },
  {
   "cell_type": "markdown",
   "metadata": {},
   "source": [
    "Сombining dataframes for analysis"
   ]
  },
  {
   "cell_type": "code",
   "execution_count": 14,
   "metadata": {},
   "outputs": [],
   "source": [
    "order_items = items.merge(orders, on='order_id')"
   ]
  },
  {
   "cell_type": "code",
   "execution_count": 15,
   "metadata": {},
   "outputs": [],
   "source": [
    "order_items[['order_purchase_timestamp', \n",
    "             'order_approved_at', \n",
    "             'order_delivered_carrier_date', \n",
    "             'order_delivered_customer_date', \n",
    "             'order_estimated_delivery_date']] = order_items[['order_purchase_timestamp', \n",
    "                                                              'order_approved_at', \n",
    "                                                              'order_delivered_carrier_date', \n",
    "                                                              'order_delivered_customer_date', \n",
    "                                                              'order_estimated_delivery_date']].apply(pd.to_datetime)"
   ]
  },
  {
   "cell_type": "markdown",
   "metadata": {},
   "source": [
    "Because we consider only delivered orders as purchases, we filter them by status for further analysis"
   ]
  },
  {
   "cell_type": "code",
   "execution_count": 16,
   "metadata": {},
   "outputs": [],
   "source": [
    "d_order_items = order_items[order_items.order_status == \"delivered\"]"
   ]
  },
  {
   "cell_type": "markdown",
   "metadata": {},
   "source": [
    "**3. For each product, determine which day of the week the product is most frequently purchased.**"
   ]
  },
  {
   "cell_type": "markdown",
   "metadata": {},
   "source": [
    "First, let's count the number of purchases of each product by day of the week"
   ]
  },
  {
   "cell_type": "code",
   "execution_count": 17,
   "metadata": {},
   "outputs": [],
   "source": [
    "amount = d_order_items.groupby([d_order_items.order_purchase_timestamp.dt.day_name(), d_order_items.product_id]) \\\n",
    "                 .order_item_id.count() \\\n",
    "                 .reset_index() \\\n",
    "                 .rename(columns={'order_purchase_timestamp' : 'weekday'})"
   ]
  },
  {
   "cell_type": "code",
   "execution_count": 18,
   "metadata": {},
   "outputs": [
    {
     "data": {
      "text/html": [
       "<div>\n",
       "<style scoped>\n",
       "    .dataframe tbody tr th:only-of-type {\n",
       "        vertical-align: middle;\n",
       "    }\n",
       "\n",
       "    .dataframe tbody tr th {\n",
       "        vertical-align: top;\n",
       "    }\n",
       "\n",
       "    .dataframe thead th {\n",
       "        text-align: right;\n",
       "    }\n",
       "</style>\n",
       "<table border=\"1\" class=\"dataframe\">\n",
       "  <thead>\n",
       "    <tr style=\"text-align: right;\">\n",
       "      <th></th>\n",
       "      <th>weekday</th>\n",
       "      <th>product_id</th>\n",
       "      <th>quantity</th>\n",
       "    </tr>\n",
       "  </thead>\n",
       "  <tbody>\n",
       "    <tr>\n",
       "      <th>0</th>\n",
       "      <td>Sunday</td>\n",
       "      <td>00066f42aeeb9f3007548bb9d3f33c38</td>\n",
       "      <td>1</td>\n",
       "    </tr>\n",
       "    <tr>\n",
       "      <th>1</th>\n",
       "      <td>Tuesday</td>\n",
       "      <td>00088930e925c41fd95ebfe695fd2655</td>\n",
       "      <td>1</td>\n",
       "    </tr>\n",
       "    <tr>\n",
       "      <th>2</th>\n",
       "      <td>Thursday</td>\n",
       "      <td>0009406fd7479715e4bef61dd91f2462</td>\n",
       "      <td>1</td>\n",
       "    </tr>\n",
       "    <tr>\n",
       "      <th>3</th>\n",
       "      <td>Friday</td>\n",
       "      <td>000b8f95fcb9e0096488278317764d19</td>\n",
       "      <td>1</td>\n",
       "    </tr>\n",
       "    <tr>\n",
       "      <th>4</th>\n",
       "      <td>Tuesday</td>\n",
       "      <td>000d9be29b5207b54e86aa1b1ac54872</td>\n",
       "      <td>1</td>\n",
       "    </tr>\n",
       "    <tr>\n",
       "      <th>...</th>\n",
       "      <td>...</td>\n",
       "      <td>...</td>\n",
       "      <td>...</td>\n",
       "    </tr>\n",
       "    <tr>\n",
       "      <th>32211</th>\n",
       "      <td>Saturday</td>\n",
       "      <td>fff6177642830a9a94a0f2cba5e476d1</td>\n",
       "      <td>1</td>\n",
       "    </tr>\n",
       "    <tr>\n",
       "      <th>32212</th>\n",
       "      <td>Monday</td>\n",
       "      <td>fff81cc3158d2725c0655ab9ba0f712c</td>\n",
       "      <td>1</td>\n",
       "    </tr>\n",
       "    <tr>\n",
       "      <th>32213</th>\n",
       "      <td>Friday</td>\n",
       "      <td>fff9553ac224cec9d15d49f5a263411f</td>\n",
       "      <td>1</td>\n",
       "    </tr>\n",
       "    <tr>\n",
       "      <th>32214</th>\n",
       "      <td>Tuesday</td>\n",
       "      <td>fffdb2d0ec8d6a61f0a0a0db3f25b441</td>\n",
       "      <td>2</td>\n",
       "    </tr>\n",
       "    <tr>\n",
       "      <th>32215</th>\n",
       "      <td>Wednesday</td>\n",
       "      <td>fffe9eeff12fcbd74a2f2b007dde0c58</td>\n",
       "      <td>1</td>\n",
       "    </tr>\n",
       "  </tbody>\n",
       "</table>\n",
       "<p>32216 rows × 3 columns</p>\n",
       "</div>"
      ],
      "text/plain": [
       "         weekday                        product_id  quantity\n",
       "0         Sunday  00066f42aeeb9f3007548bb9d3f33c38         1\n",
       "1        Tuesday  00088930e925c41fd95ebfe695fd2655         1\n",
       "2       Thursday  0009406fd7479715e4bef61dd91f2462         1\n",
       "3         Friday  000b8f95fcb9e0096488278317764d19         1\n",
       "4        Tuesday  000d9be29b5207b54e86aa1b1ac54872         1\n",
       "...          ...                               ...       ...\n",
       "32211   Saturday  fff6177642830a9a94a0f2cba5e476d1         1\n",
       "32212     Monday  fff81cc3158d2725c0655ab9ba0f712c         1\n",
       "32213     Friday  fff9553ac224cec9d15d49f5a263411f         1\n",
       "32214    Tuesday  fffdb2d0ec8d6a61f0a0a0db3f25b441         2\n",
       "32215  Wednesday  fffe9eeff12fcbd74a2f2b007dde0c58         1\n",
       "\n",
       "[32216 rows x 3 columns]"
      ]
     },
     "execution_count": 18,
     "metadata": {},
     "output_type": "execute_result"
    }
   ],
   "source": [
    "amount.loc[amount.groupby('product_id').order_item_id.idxmax()] \\\n",
    "     .reset_index() \\\n",
    "     .drop(columns = 'index') \\\n",
    "     .rename(columns={'order_item_id' : 'quantity'})"
   ]
  },
  {
   "cell_type": "markdown",
   "metadata": {},
   "source": [
    "**4. How many purchases per week, on average, does each user make (per month)?**"
   ]
  },
  {
   "cell_type": "markdown",
   "metadata": {},
   "source": [
    "First we count the number of purchases per month"
   ]
  },
  {
   "cell_type": "code",
   "execution_count": 19,
   "metadata": {},
   "outputs": [],
   "source": [
    "purchases = d_data.groupby(['customer_unique_id', pd.Grouper(key='order_purchase_timestamp', freq='ME')]) \\\n",
    "                  .order_id.count() \\\n",
    "                  .reset_index()"
   ]
  },
  {
   "cell_type": "markdown",
   "metadata": {},
   "source": [
    "After this, we create new columns and find the necessary data"
   ]
  },
  {
   "cell_type": "code",
   "execution_count": 20,
   "metadata": {},
   "outputs": [],
   "source": [
    "purchases['weeksinmonth'] = purchases.order_purchase_timestamp.dt.daysinmonth / 7\n",
    "purchases['weekly_purchases'] = purchases.order_id/purchases.weeksinmonth"
   ]
  },
  {
   "cell_type": "code",
   "execution_count": 21,
   "metadata": {},
   "outputs": [
    {
     "data": {
      "text/plain": [
       "customer_unique_id\n",
       "0000366f3b9a7992bf8c76cfdf3221e2    0.225806\n",
       "0000b849f77a49e4a4ce2b2a4ca5be3f    0.225806\n",
       "0000f46a3911fa3c0805444483337064    0.225806\n",
       "0000f6ccb0745a6a4b88665a16c9f078    0.225806\n",
       "0004aac84e0df4da2b147fca70cf8255    0.233333\n",
       "                                      ...   \n",
       "fffcf5a5ff07b0908bd4e2dbc735a684    0.233333\n",
       "fffea47cd6d3cc0a88bd621562a9d061    0.225806\n",
       "ffff371b4d645b6ecea244b27531430a    0.250000\n",
       "ffff5962728ec6157033ef9805bacc48    0.225806\n",
       "ffffd2657e2aad2907e67c3e9daecbeb    0.225806\n",
       "Name: weekly_purchases, Length: 93358, dtype: float64"
      ]
     },
     "execution_count": 21,
     "metadata": {},
     "output_type": "execute_result"
    }
   ],
   "source": [
    "purchases.groupby('customer_unique_id').weekly_purchases.mean()"
   ]
  },
  {
   "cell_type": "markdown",
   "metadata": {},
   "source": [
    "**5. Cohort analysis of users**"
   ]
  },
  {
   "cell_type": "markdown",
   "metadata": {},
   "source": [
    "First, find the date of first purchase for each user"
   ]
  },
  {
   "cell_type": "code",
   "execution_count": 22,
   "metadata": {},
   "outputs": [],
   "source": [
    "first_purchase = d_data.groupby('customer_unique_id').order_purchase_timestamp.min().reset_index()"
   ]
  },
  {
   "cell_type": "markdown",
   "metadata": {},
   "source": [
    "After this, we divide these dates by month, these will be the cohorts"
   ]
  },
  {
   "cell_type": "code",
   "execution_count": 23,
   "metadata": {},
   "outputs": [],
   "source": [
    "first_purchase['cohort'] = first_purchase.order_purchase_timestamp.dt.to_period('M')\n",
    "first_purchase = first_purchase.rename(columns={'order_purchase_timestamp' : 'first_purchase'})"
   ]
  },
  {
   "cell_type": "markdown",
   "metadata": {},
   "source": [
    "Add new columns with the date of first purchase and cohort to the main dataframe using a join"
   ]
  },
  {
   "cell_type": "code",
   "execution_count": 24,
   "metadata": {},
   "outputs": [],
   "source": [
    "d_data = d_data.merge(first_purchase, on='customer_unique_id')"
   ]
  },
  {
   "cell_type": "markdown",
   "metadata": {},
   "source": [
    "Group by cohort and month of purchase and count the number of unique buyers for each group"
   ]
  },
  {
   "cell_type": "code",
   "execution_count": 25,
   "metadata": {},
   "outputs": [],
   "source": [
    "cohort_data = d_data.groupby([d_data.cohort, d_data.order_purchase_timestamp.dt.to_period('M')]) \\\n",
    "                    .customer_unique_id.nunique() \\\n",
    "                    .reset_index()"
   ]
  },
  {
   "cell_type": "code",
   "execution_count": 26,
   "metadata": {},
   "outputs": [
    {
     "data": {
      "text/html": [
       "<div>\n",
       "<style scoped>\n",
       "    .dataframe tbody tr th:only-of-type {\n",
       "        vertical-align: middle;\n",
       "    }\n",
       "\n",
       "    .dataframe tbody tr th {\n",
       "        vertical-align: top;\n",
       "    }\n",
       "\n",
       "    .dataframe thead th {\n",
       "        text-align: right;\n",
       "    }\n",
       "</style>\n",
       "<table border=\"1\" class=\"dataframe\">\n",
       "  <thead>\n",
       "    <tr style=\"text-align: right;\">\n",
       "      <th></th>\n",
       "      <th>cohort</th>\n",
       "      <th>order_purchase_timestamp</th>\n",
       "      <th>customer_unique_id</th>\n",
       "    </tr>\n",
       "  </thead>\n",
       "  <tbody>\n",
       "    <tr>\n",
       "      <th>0</th>\n",
       "      <td>2016-09</td>\n",
       "      <td>2016-09</td>\n",
       "      <td>1</td>\n",
       "    </tr>\n",
       "    <tr>\n",
       "      <th>1</th>\n",
       "      <td>2016-10</td>\n",
       "      <td>2016-10</td>\n",
       "      <td>262</td>\n",
       "    </tr>\n",
       "    <tr>\n",
       "      <th>2</th>\n",
       "      <td>2016-10</td>\n",
       "      <td>2017-04</td>\n",
       "      <td>1</td>\n",
       "    </tr>\n",
       "    <tr>\n",
       "      <th>3</th>\n",
       "      <td>2016-10</td>\n",
       "      <td>2017-07</td>\n",
       "      <td>1</td>\n",
       "    </tr>\n",
       "    <tr>\n",
       "      <th>4</th>\n",
       "      <td>2016-10</td>\n",
       "      <td>2017-09</td>\n",
       "      <td>1</td>\n",
       "    </tr>\n",
       "    <tr>\n",
       "      <th>...</th>\n",
       "      <td>...</td>\n",
       "      <td>...</td>\n",
       "      <td>...</td>\n",
       "    </tr>\n",
       "    <tr>\n",
       "      <th>214</th>\n",
       "      <td>2018-06</td>\n",
       "      <td>2018-07</td>\n",
       "      <td>25</td>\n",
       "    </tr>\n",
       "    <tr>\n",
       "      <th>215</th>\n",
       "      <td>2018-06</td>\n",
       "      <td>2018-08</td>\n",
       "      <td>16</td>\n",
       "    </tr>\n",
       "    <tr>\n",
       "      <th>216</th>\n",
       "      <td>2018-07</td>\n",
       "      <td>2018-07</td>\n",
       "      <td>5949</td>\n",
       "    </tr>\n",
       "    <tr>\n",
       "      <th>217</th>\n",
       "      <td>2018-07</td>\n",
       "      <td>2018-08</td>\n",
       "      <td>31</td>\n",
       "    </tr>\n",
       "    <tr>\n",
       "      <th>218</th>\n",
       "      <td>2018-08</td>\n",
       "      <td>2018-08</td>\n",
       "      <td>6144</td>\n",
       "    </tr>\n",
       "  </tbody>\n",
       "</table>\n",
       "<p>219 rows × 3 columns</p>\n",
       "</div>"
      ],
      "text/plain": [
       "      cohort order_purchase_timestamp  customer_unique_id\n",
       "0    2016-09                  2016-09                   1\n",
       "1    2016-10                  2016-10                 262\n",
       "2    2016-10                  2017-04                   1\n",
       "3    2016-10                  2017-07                   1\n",
       "4    2016-10                  2017-09                   1\n",
       "..       ...                      ...                 ...\n",
       "214  2018-06                  2018-07                  25\n",
       "215  2018-06                  2018-08                  16\n",
       "216  2018-07                  2018-07                5949\n",
       "217  2018-07                  2018-08                  31\n",
       "218  2018-08                  2018-08                6144\n",
       "\n",
       "[219 rows x 3 columns]"
      ]
     },
     "execution_count": 26,
     "metadata": {},
     "output_type": "execute_result"
    }
   ],
   "source": [
    "cohort_data"
   ]
  },
  {
   "cell_type": "markdown",
   "metadata": {},
   "source": [
    "Create new columns to determine the number of months since the formation of the cohort and retention"
   ]
  },
  {
   "cell_type": "code",
   "execution_count": 27,
   "metadata": {},
   "outputs": [],
   "source": [
    "cohort_data['month_number'] = cohort_data.order_purchase_timestamp.astype('int64') - cohort_data.cohort.astype('int64')\n",
    "cohort_data['retention'] = cohort_data['customer_unique_id'] / cohort_data.groupby('cohort')['customer_unique_id'].transform('first')"
   ]
  },
  {
   "cell_type": "markdown",
   "metadata": {},
   "source": [
    "Find the cohort with the highest retention in the 3rd month"
   ]
  },
  {
   "cell_type": "code",
   "execution_count": 28,
   "metadata": {},
   "outputs": [
    {
     "data": {
      "text/html": [
       "<div>\n",
       "<style scoped>\n",
       "    .dataframe tbody tr th:only-of-type {\n",
       "        vertical-align: middle;\n",
       "    }\n",
       "\n",
       "    .dataframe tbody tr th {\n",
       "        vertical-align: top;\n",
       "    }\n",
       "\n",
       "    .dataframe thead th {\n",
       "        text-align: right;\n",
       "    }\n",
       "</style>\n",
       "<table border=\"1\" class=\"dataframe\">\n",
       "  <thead>\n",
       "    <tr style=\"text-align: right;\">\n",
       "      <th></th>\n",
       "      <th>cohort</th>\n",
       "      <th>order_purchase_timestamp</th>\n",
       "      <th>customer_unique_id</th>\n",
       "      <th>month_number</th>\n",
       "      <th>retention</th>\n",
       "    </tr>\n",
       "  </thead>\n",
       "  <tbody>\n",
       "    <tr>\n",
       "      <th>102</th>\n",
       "      <td>2017-06</td>\n",
       "      <td>2017-09</td>\n",
       "      <td>13</td>\n",
       "      <td>3</td>\n",
       "      <td>0.004281</td>\n",
       "    </tr>\n",
       "  </tbody>\n",
       "</table>\n",
       "</div>"
      ],
      "text/plain": [
       "      cohort order_purchase_timestamp  customer_unique_id  month_number  \\\n",
       "102  2017-06                  2017-09                  13             3   \n",
       "\n",
       "     retention  \n",
       "102   0.004281  "
      ]
     },
     "execution_count": 28,
     "metadata": {},
     "output_type": "execute_result"
    }
   ],
   "source": [
    "cohort_data[cohort_data.month_number == 3].sort_values(by='retention', ascending=False).head(1)"
   ]
  },
  {
   "cell_type": "markdown",
   "metadata": {},
   "source": [
    "**6. RFM segmentation**"
   ]
  },
  {
   "cell_type": "markdown",
   "metadata": {},
   "source": [
    "To start doing segmentation we need to join all the tables. We take a ready-made table with customers and delivered orders, paste information on the goods."
   ]
  },
  {
   "cell_type": "code",
   "execution_count": 29,
   "metadata": {},
   "outputs": [],
   "source": [
    "all_data = d_data.merge(items, on='order_id')"
   ]
  },
  {
   "cell_type": "markdown",
   "metadata": {},
   "source": [
    "We calculate the price of orders"
   ]
  },
  {
   "cell_type": "code",
   "execution_count": 30,
   "metadata": {},
   "outputs": [],
   "source": [
    "order_price = all_data.groupby(['order_id', 'customer_unique_id', 'order_purchase_timestamp']).price.sum().reset_index()"
   ]
  },
  {
   "cell_type": "markdown",
   "metadata": {},
   "source": [
    "Since the data is old, we will assume that “now” is the last date of purchase + 1 day"
   ]
  },
  {
   "cell_type": "code",
   "execution_count": 31,
   "metadata": {},
   "outputs": [
    {
     "data": {
      "text/plain": [
       "Timestamp('2018-08-30 15:00:37')"
      ]
     },
     "execution_count": 31,
     "metadata": {},
     "output_type": "execute_result"
    }
   ],
   "source": [
    "NOW = order_price.order_purchase_timestamp.max() + pd.Timedelta(days=1)\n",
    "NOW"
   ]
  },
  {
   "cell_type": "markdown",
   "metadata": {},
   "source": [
    "Create a column with the difference in days between “now” and the date of purchase"
   ]
  },
  {
   "cell_type": "code",
   "execution_count": 32,
   "metadata": {},
   "outputs": [],
   "source": [
    "order_price['days'] = (NOW - order_price['order_purchase_timestamp']).dt.days"
   ]
  },
  {
   "cell_type": "markdown",
   "metadata": {},
   "source": [
    "Create a new dataframe: group by users, then calculate Recency, Frequency and Monetary.\n",
    "\n",
    "Recency - number of days since last purchase, Frequency - number of purchases for all time, Monetary - amount of money for all time"
   ]
  },
  {
   "cell_type": "code",
   "execution_count": 33,
   "metadata": {},
   "outputs": [],
   "source": [
    "rfm = order_price.groupby('customer_unique_id', as_index = False) \\\n",
    "                .agg({'days': 'min', 'order_id': 'count', 'price': 'sum'}) \\\n",
    "                .rename(columns={'days':'Recency', 'order_id': 'Frequency', 'price': 'Monetary'})"
   ]
  },
  {
   "cell_type": "markdown",
   "metadata": {},
   "source": [
    "Divide our data into segments. Since we have a very small number of repeat purchases (>1), we take 2 groups for Frequency. For other characteristics there are 4 groups each."
   ]
  },
  {
   "cell_type": "code",
   "execution_count": 34,
   "metadata": {},
   "outputs": [],
   "source": [
    "quintiles_1 = rfm[['Recency']].quantile([.25, .5, .75]).to_dict()\n",
    "quintiles_3 = rfm[['Monetary']].quantile([.25, .5, .75]).to_dict()"
   ]
  },
  {
   "cell_type": "code",
   "execution_count": 35,
   "metadata": {},
   "outputs": [],
   "source": [
    "def r_score(x):\n",
    "    if x <= quintiles_1['Recency'][.25]:\n",
    "        return 4\n",
    "    elif x <= quintiles_1['Recency'][.5]:\n",
    "        return 3\n",
    "    elif x <= quintiles_1['Recency'][.75]:\n",
    "        return 2\n",
    "    else:\n",
    "        return 1\n",
    "\n",
    "def f_score(x):\n",
    "    if x <= 1:\n",
    "        return 1\n",
    "    else:\n",
    "        return 4  \n",
    "\n",
    "def m_score(x):\n",
    "    if x <= quintiles_3['Monetary'][.25]:\n",
    "        return 1\n",
    "    elif x <= quintiles_3['Monetary'][.5]:\n",
    "        return 2\n",
    "    elif x <= quintiles_3['Monetary'][.75]:\n",
    "        return 3\n",
    "    else:\n",
    "        return 4"
   ]
  },
  {
   "cell_type": "markdown",
   "metadata": {},
   "source": [
    " We use functions to assign the required speed and create a new column. Because there are only 2 groups in Frequency, F is either 1 (less than one purchase) or 4 (more than one purchase)"
   ]
  },
  {
   "cell_type": "code",
   "execution_count": 36,
   "metadata": {},
   "outputs": [],
   "source": [
    "rfm['R'] = rfm['Recency'].apply(r_score)\n",
    "rfm['F'] = rfm['Frequency'].apply(f_score)\n",
    "rfm['M'] = rfm['Monetary'].apply(m_score)\n",
    "rfm['RFM Score'] = rfm['R'].astype(str) + rfm['F'].astype(str) + rfm['M'].astype(str)"
   ]
  },
  {
   "cell_type": "markdown",
   "metadata": {},
   "source": [
    "We make a dictionary in which we denote the boundaries of each segment. Let's take the segments from the example adjusted for our data as a sample. Segment boundaries can be seen from the dictionary structure and quantile values."
   ]
  },
  {
   "cell_type": "code",
   "execution_count": 37,
   "metadata": {},
   "outputs": [
    {
     "data": {
      "text/plain": [
       "Segment\n",
       "new customers          22938\n",
       "hibernating            22732\n",
       "promising              22360\n",
       "about to sleep         17125\n",
       "need attention          6075\n",
       "loyal customers         1316\n",
       "can't loose              463\n",
       "potential loyalists      233\n",
       "at risk                  116\n",
       "Name: count, dtype: int64"
      ]
     },
     "execution_count": 37,
     "metadata": {},
     "output_type": "execute_result"
    }
   ],
   "source": [
    "segt_map = {\n",
    "    r'11[1-4]': 'hibernating',\n",
    "    r'14[1-2]': 'at risk',\n",
    "    r'14[3-4]': 'can\\'t loose',\n",
    "    r'21[1-3]': 'about to sleep',\n",
    "    r'2[1-4][1-4]': 'need attention',\n",
    "    r'[3-4]4[3-4]': 'loyal customers',\n",
    "    r'[3-4]1[3-4]': 'promising',\n",
    "    r'[3-4]1[1-2]': 'new customers',\n",
    "    r'[3-4]4[1-2]': 'potential loyalists'\n",
    "}\n",
    "\n",
    "# hibernating - the last purchase was a long time ago, a small number of purchases may no longer be active\n",
    "# at risk - the last purchase was also a long time ago, but there was more than one purchase\n",
    "# can't loose - the last purchase was a long time ago, but there was more than one purchase and the client is in the top for money spent\n",
    "# about to sleep - haven't made purchases for a long time\n",
    "# need attention - there have been no purchases for a long time, while clients from this group either bought often or were in the top for money spent\n",
    "# loyal customers - our best customers, who shop regularly and spend the most\n",
    "# promising - recently made a purchase, spend above average\n",
    "# new customers - recently made a purchase for a small amount\n",
    "# potential loyalists - recently made several purchases, but not for a very large amount\n",
    "\n",
    "\n",
    "rfm['Segment'] = rfm['R'].astype(str) + rfm['F'].astype(str) + rfm['M'].astype(str)\n",
    "rfm['Segment'] = rfm['Segment'].replace(segt_map, regex=True)\n",
    "rfm.Segment.value_counts()"
   ]
  }
 ],
 "metadata": {
  "kernelspec": {
   "display_name": "Python 3 (ipykernel)",
   "language": "python",
   "name": "python3"
  },
  "language_info": {
   "codemirror_mode": {
    "name": "ipython",
    "version": 3
   },
   "file_extension": ".py",
   "mimetype": "text/x-python",
   "name": "python",
   "nbconvert_exporter": "python",
   "pygments_lexer": "ipython3",
   "version": "3.12.2"
  }
 },
 "nbformat": 4,
 "nbformat_minor": 4
}
