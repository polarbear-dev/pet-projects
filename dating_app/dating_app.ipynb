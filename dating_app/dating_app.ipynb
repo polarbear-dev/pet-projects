{
 "cells": [
  {
   "cell_type": "markdown",
   "metadata": {},
   "source": [
    "Importing the necessary libraries"
   ]
  },
  {
   "cell_type": "code",
   "execution_count": 1,
   "metadata": {},
   "outputs": [],
   "source": [
    "import requests\n",
    "import pandas as pd\n",
    "from io import BytesIO\n",
    "import matplotlib.pyplot as plt\n",
    "import seaborn as sns\n",
    "import numpy as np\n",
    "from scipy import stats\n",
    "from tqdm.auto import tqdm\n",
    "\n",
    "%matplotlib inline\n",
    "plt.style.use('ggplot')"
   ]
  },
  {
   "cell_type": "markdown",
   "metadata": {},
   "source": [
    "Loading our data"
   ]
  },
  {
   "cell_type": "code",
   "execution_count": 2,
   "metadata": {},
   "outputs": [],
   "source": [
    "def get_data(public_key):\n",
    "    base_url = 'https://cloud-api.yandex.net/v1/disk/public/resources/download?'\n",
    "\n",
    "    # Get the download link\n",
    "    final_url = base_url + 'public_key=' + public_key\n",
    "    response = requests.get(final_url)\n",
    "    download_url = response.json()['href']\n",
    "    req = requests.get(download_url)\n",
    "    data = req.content\n",
    "\n",
    "    df = pd.read_csv(BytesIO(data), sep=';')\n",
    "    return df"
   ]
  },
  {
   "cell_type": "code",
   "execution_count": 3,
   "metadata": {},
   "outputs": [],
   "source": [
    "users_test = 'https://disk.yandex.ru/d/4XXIME4osGrMRA'\n",
    "users_control_1 = 'https://disk.yandex.ru/d/yJFydMNNGkEKfg'\n",
    "users_control_2 = 'https://disk.yandex.ru/d/br6KkQupzzTGoQ'\n",
    "transactions_test = 'https://disk.yandex.ru/d/gvCWpZ55ODzs2g'\n",
    "transactions_control_1 = 'https://disk.yandex.ru/d/VY5W0keMX5TZBQ'\n",
    "transactions_control_2 = 'https://disk.yandex.ru/d/th5GL0mGOc-qzg'\n",
    "u_test = get_data(users_test)\n",
    "u_1 = get_data(users_control_1)\n",
    "u_2 = get_data(users_control_2)\n",
    "t_test = get_data(transactions_test)\n",
    "t_1 = get_data(transactions_control_1)\n",
    "t_2 = get_data(transactions_control_2)"
   ]
  },
  {
   "cell_type": "code",
   "execution_count": 4,
   "metadata": {
    "scrolled": true
   },
   "outputs": [
    {
     "name": "stdout",
     "output_type": "stream",
     "text": [
      "<class 'pandas.core.frame.DataFrame'>\n",
      "RangeIndex: 4308 entries, 0 to 4307\n",
      "Data columns (total 13 columns):\n",
      " #   Column            Non-Null Count  Dtype  \n",
      "---  ------            --------------  -----  \n",
      " 0   uid               4308 non-null   int64  \n",
      " 1   age               4308 non-null   int64  \n",
      " 2   attraction_coeff  4308 non-null   int64  \n",
      " 3   coins             49 non-null     float64\n",
      " 4   country           4308 non-null   object \n",
      " 5   visit_days        2978 non-null   object \n",
      " 6   gender            4308 non-null   int64  \n",
      " 7   age_filter_start  4308 non-null   int64  \n",
      " 8   age_filter_end    4308 non-null   int64  \n",
      " 9   views_count       4308 non-null   int64  \n",
      " 10  was_premium       408 non-null    float64\n",
      " 11  is_premium        157 non-null    float64\n",
      " 12  total_revenue     4308 non-null   int64  \n",
      "dtypes: float64(3), int64(8), object(2)\n",
      "memory usage: 437.7+ KB\n",
      "<class 'pandas.core.frame.DataFrame'>\n",
      "RangeIndex: 4340 entries, 0 to 4339\n",
      "Data columns (total 13 columns):\n",
      " #   Column            Non-Null Count  Dtype  \n",
      "---  ------            --------------  -----  \n",
      " 0   uid               4340 non-null   int64  \n",
      " 1   age               4340 non-null   int64  \n",
      " 2   attraction_coeff  4340 non-null   int64  \n",
      " 3   coins             60 non-null     float64\n",
      " 4   country           4340 non-null   object \n",
      " 5   visit_days        3016 non-null   object \n",
      " 6   gender            4340 non-null   int64  \n",
      " 7   age_filter_start  4340 non-null   int64  \n",
      " 8   age_filter_end    4340 non-null   int64  \n",
      " 9   views_count       4340 non-null   int64  \n",
      " 10  was_premium       436 non-null    float64\n",
      " 11  is_premium        192 non-null    float64\n",
      " 12  total_revenue     4340 non-null   int64  \n",
      "dtypes: float64(3), int64(8), object(2)\n",
      "memory usage: 440.9+ KB\n",
      "<class 'pandas.core.frame.DataFrame'>\n",
      "RangeIndex: 4264 entries, 0 to 4263\n",
      "Data columns (total 13 columns):\n",
      " #   Column            Non-Null Count  Dtype  \n",
      "---  ------            --------------  -----  \n",
      " 0   uid               4264 non-null   int64  \n",
      " 1   age               4264 non-null   int64  \n",
      " 2   attraction_coeff  4264 non-null   int64  \n",
      " 3   coins             61 non-null     float64\n",
      " 4   country           4264 non-null   object \n",
      " 5   visit_days        2900 non-null   object \n",
      " 6   gender            4264 non-null   int64  \n",
      " 7   age_filter_start  4264 non-null   int64  \n",
      " 8   age_filter_end    4264 non-null   int64  \n",
      " 9   views_count       4264 non-null   int64  \n",
      " 10  was_premium       411 non-null    float64\n",
      " 11  is_premium        191 non-null    float64\n",
      " 12  total_revenue     4264 non-null   int64  \n",
      "dtypes: float64(3), int64(8), object(2)\n",
      "memory usage: 433.2+ KB\n",
      "<class 'pandas.core.frame.DataFrame'>\n",
      "RangeIndex: 273 entries, 0 to 272\n",
      "Data columns (total 8 columns):\n",
      " #   Column        Non-Null Count  Dtype \n",
      "---  ------        --------------  ----- \n",
      " 0   uid           273 non-null    int64 \n",
      " 1   country       273 non-null    object\n",
      " 2   joined_at     273 non-null    object\n",
      " 3   paid_at       273 non-null    object\n",
      " 4   revenue       273 non-null    int64 \n",
      " 5   payment_id    273 non-null    int64 \n",
      " 6   from_page     273 non-null    object\n",
      " 7   product_type  273 non-null    object\n",
      "dtypes: int64(3), object(5)\n",
      "memory usage: 17.2+ KB\n",
      "<class 'pandas.core.frame.DataFrame'>\n",
      "RangeIndex: 1007 entries, 0 to 1006\n",
      "Data columns (total 8 columns):\n",
      " #   Column        Non-Null Count  Dtype  \n",
      "---  ------        --------------  -----  \n",
      " 0   uid           377 non-null    float64\n",
      " 1   country       377 non-null    object \n",
      " 2   joined_at     1007 non-null   object \n",
      " 3   paid_at       1007 non-null   object \n",
      " 4   revenue       377 non-null    float64\n",
      " 5   payment_id    377 non-null    float64\n",
      " 6   from_page     377 non-null    object \n",
      " 7   product_type  377 non-null    object \n",
      "dtypes: float64(3), object(5)\n",
      "memory usage: 63.1+ KB\n",
      "<class 'pandas.core.frame.DataFrame'>\n",
      "RangeIndex: 328 entries, 0 to 327\n",
      "Data columns (total 8 columns):\n",
      " #   Column        Non-Null Count  Dtype \n",
      "---  ------        --------------  ----- \n",
      " 0   uid           328 non-null    int64 \n",
      " 1   country       328 non-null    object\n",
      " 2   joined_at     328 non-null    object\n",
      " 3   paid_at       328 non-null    object\n",
      " 4   revenue       328 non-null    int64 \n",
      " 5   payment_id    328 non-null    int64 \n",
      " 6   from_page     328 non-null    object\n",
      " 7   product_type  328 non-null    object\n",
      "dtypes: int64(3), object(5)\n",
      "memory usage: 20.6+ KB\n",
      "None None None None None None\n"
     ]
    }
   ],
   "source": [
    "print(u_test.info(), u_1.info(), u_2.info(), t_test.info(), t_1.info(), t_2.info())"
   ]
  },
  {
   "cell_type": "markdown",
   "metadata": {},
   "source": [
    "We see a lot of missing values. Transactions in the first control group contain extra blank lines. Let's delete them and insert 0 instead of the remaining gaps."
   ]
  },
  {
   "cell_type": "code",
   "execution_count": 5,
   "metadata": {},
   "outputs": [],
   "source": [
    "t_1 = t_1.dropna()"
   ]
  },
  {
   "cell_type": "code",
   "execution_count": 6,
   "metadata": {},
   "outputs": [],
   "source": [
    "u_test = u_test.fillna(0)\n",
    "u_1 = u_1.fillna(0)\n",
    "u_2 = u_2.fillna(0)"
   ]
  },
  {
   "cell_type": "markdown",
   "metadata": {},
   "source": [
    "Let's change the data types to more suitable ones."
   ]
  },
  {
   "cell_type": "code",
   "execution_count": 7,
   "metadata": {},
   "outputs": [],
   "source": [
    "t_1[['uid', 'revenue', 'payment_id']] = t_1[['uid', 'revenue', 'payment_id']].astype(int)\n",
    "u_test[['is_premium', 'was_premium']] = u_test[['is_premium', 'was_premium']].astype(int)\n",
    "u_1[['is_premium', 'was_premium']] = u_1[['is_premium', 'was_premium']].astype(int)\n",
    "u_2[['is_premium', 'was_premium']] = u_2[['is_premium', 'was_premium']].astype(int)\n",
    "t_test[['joined_at', 'paid_at']] = t_test[['joined_at', 'paid_at']].apply(pd.to_datetime)\n",
    "t_1[['joined_at', 'paid_at']] = t_1[['joined_at', 'paid_at']].apply(pd.to_datetime)\n",
    "t_2[['joined_at', 'paid_at']] = t_2[['joined_at', 'paid_at']].apply(pd.to_datetime)"
   ]
  },
  {
   "cell_type": "markdown",
   "metadata": {},
   "source": [
    "Let's compare the groups with each other according to time periods."
   ]
  },
  {
   "cell_type": "code",
   "execution_count": 8,
   "metadata": {},
   "outputs": [
    {
     "name": "stdout",
     "output_type": "stream",
     "text": [
      "2017-01-11 03:07:00 2017-10-31 23:40:00\n",
      "2015-01-19 11:49:00 2017-10-31 22:17:00\n",
      "2017-01-11 08:36:00 2017-10-31 17:43:00\n"
     ]
    }
   ],
   "source": [
    "print(t_test['joined_at'].min(), t_test['joined_at'].max())\n",
    "print(t_1['joined_at'].min(), t_1['joined_at'].max())\n",
    "print(t_2['joined_at'].min(), t_2['joined_at'].max())"
   ]
  },
  {
   "cell_type": "markdown",
   "metadata": {},
   "source": [
    "The first control group contains strange transactions for 2015. Let's take a closer look at them:"
   ]
  },
  {
   "cell_type": "code",
   "execution_count": 9,
   "metadata": {},
   "outputs": [
    {
     "data": {
      "text/html": [
       "<div>\n",
       "<style scoped>\n",
       "    .dataframe tbody tr th:only-of-type {\n",
       "        vertical-align: middle;\n",
       "    }\n",
       "\n",
       "    .dataframe tbody tr th {\n",
       "        vertical-align: top;\n",
       "    }\n",
       "\n",
       "    .dataframe thead th {\n",
       "        text-align: right;\n",
       "    }\n",
       "</style>\n",
       "<table border=\"1\" class=\"dataframe\">\n",
       "  <thead>\n",
       "    <tr style=\"text-align: right;\">\n",
       "      <th></th>\n",
       "      <th>uid</th>\n",
       "      <th>country</th>\n",
       "      <th>joined_at</th>\n",
       "      <th>paid_at</th>\n",
       "      <th>revenue</th>\n",
       "      <th>payment_id</th>\n",
       "      <th>from_page</th>\n",
       "      <th>product_type</th>\n",
       "    </tr>\n",
       "  </thead>\n",
       "  <tbody>\n",
       "    <tr>\n",
       "      <th>65</th>\n",
       "      <td>960936960</td>\n",
       "      <td>Russian Federation</td>\n",
       "      <td>2015-01-19 11:49:00</td>\n",
       "      <td>2016-12-14 17:30:00</td>\n",
       "      <td>26</td>\n",
       "      <td>0</td>\n",
       "      <td>refund_VP</td>\n",
       "      <td>other_type</td>\n",
       "    </tr>\n",
       "    <tr>\n",
       "      <th>101</th>\n",
       "      <td>960936960</td>\n",
       "      <td>Russian Federation</td>\n",
       "      <td>2015-01-19 11:49:00</td>\n",
       "      <td>2016-12-14 17:35:00</td>\n",
       "      <td>637</td>\n",
       "      <td>0</td>\n",
       "      <td>refung_AP</td>\n",
       "      <td>other_type</td>\n",
       "    </tr>\n",
       "    <tr>\n",
       "      <th>224</th>\n",
       "      <td>960936960</td>\n",
       "      <td>Russian Federation</td>\n",
       "      <td>2015-01-19 11:49:00</td>\n",
       "      <td>2016-12-14 16:16:00</td>\n",
       "      <td>143</td>\n",
       "      <td>0</td>\n",
       "      <td>refund_WP</td>\n",
       "      <td>other_type</td>\n",
       "    </tr>\n",
       "  </tbody>\n",
       "</table>\n",
       "</div>"
      ],
      "text/plain": [
       "           uid             country           joined_at             paid_at  \\\n",
       "65   960936960  Russian Federation 2015-01-19 11:49:00 2016-12-14 17:30:00   \n",
       "101  960936960  Russian Federation 2015-01-19 11:49:00 2016-12-14 17:35:00   \n",
       "224  960936960  Russian Federation 2015-01-19 11:49:00 2016-12-14 16:16:00   \n",
       "\n",
       "     revenue  payment_id  from_page product_type  \n",
       "65        26           0  refund_VP   other_type  \n",
       "101      637           0  refung_AP   other_type  \n",
       "224      143           0  refund_WP   other_type  "
      ]
     },
     "execution_count": 9,
     "metadata": {},
     "output_type": "execute_result"
    }
   ],
   "source": [
    "t_1.query('joined_at < \"2017-01-11\"')"
   ]
  },
  {
   "cell_type": "code",
   "execution_count": 10,
   "metadata": {},
   "outputs": [
    {
     "data": {
      "text/html": [
       "<div>\n",
       "<style scoped>\n",
       "    .dataframe tbody tr th:only-of-type {\n",
       "        vertical-align: middle;\n",
       "    }\n",
       "\n",
       "    .dataframe tbody tr th {\n",
       "        vertical-align: top;\n",
       "    }\n",
       "\n",
       "    .dataframe thead th {\n",
       "        text-align: right;\n",
       "    }\n",
       "</style>\n",
       "<table border=\"1\" class=\"dataframe\">\n",
       "  <thead>\n",
       "    <tr style=\"text-align: right;\">\n",
       "      <th></th>\n",
       "      <th>uid</th>\n",
       "      <th>age</th>\n",
       "      <th>attraction_coeff</th>\n",
       "      <th>coins</th>\n",
       "      <th>country</th>\n",
       "      <th>visit_days</th>\n",
       "      <th>gender</th>\n",
       "      <th>age_filter_start</th>\n",
       "      <th>age_filter_end</th>\n",
       "      <th>views_count</th>\n",
       "      <th>was_premium</th>\n",
       "      <th>is_premium</th>\n",
       "      <th>total_revenue</th>\n",
       "    </tr>\n",
       "  </thead>\n",
       "  <tbody>\n",
       "    <tr>\n",
       "      <th>510</th>\n",
       "      <td>960936960</td>\n",
       "      <td>30</td>\n",
       "      <td>4</td>\n",
       "      <td>99958.0</td>\n",
       "      <td>Russian Federation</td>\n",
       "      <td>1,2,3,4,7,8,9,10,11,14,15,16,17,18,21,22,23,24...</td>\n",
       "      <td>1</td>\n",
       "      <td>26</td>\n",
       "      <td>62</td>\n",
       "      <td>4262</td>\n",
       "      <td>1</td>\n",
       "      <td>1</td>\n",
       "      <td>26</td>\n",
       "    </tr>\n",
       "  </tbody>\n",
       "</table>\n",
       "</div>"
      ],
      "text/plain": [
       "           uid  age  attraction_coeff    coins             country  \\\n",
       "510  960936960   30                 4  99958.0  Russian Federation   \n",
       "\n",
       "                                            visit_days  gender  \\\n",
       "510  1,2,3,4,7,8,9,10,11,14,15,16,17,18,21,22,23,24...       1   \n",
       "\n",
       "     age_filter_start  age_filter_end  views_count  was_premium  is_premium  \\\n",
       "510                26              62         4262            1           1   \n",
       "\n",
       "     total_revenue  \n",
       "510             26  "
      ]
     },
     "execution_count": 10,
     "metadata": {},
     "output_type": "execute_result"
    }
   ],
   "source": [
    "u_1.query('uid == 960936960')"
   ]
  },
  {
   "cell_type": "markdown",
   "metadata": {},
   "source": [
    "For the purity of the experiment, our data must be taken for the same time periods, so we will remove this user from our dataframes."
   ]
  },
  {
   "cell_type": "code",
   "execution_count": 11,
   "metadata": {},
   "outputs": [],
   "source": [
    "u_1 = u_1.loc[u_1['uid'] != 960936960].copy()\n",
    "t_1 = t_1.loc[t_1['uid'] != 960936960].copy()"
   ]
  },
  {
   "cell_type": "markdown",
   "metadata": {},
   "source": [
    "Let's see if the data of users and their transactions matches:"
   ]
  },
  {
   "cell_type": "code",
   "execution_count": 12,
   "metadata": {},
   "outputs": [
    {
     "name": "stdout",
     "output_type": "stream",
     "text": [
      "False False True\n"
     ]
    }
   ],
   "source": [
    "print(\n",
    "    u_test.total_revenue.sum() == t_test.revenue.sum(),\n",
    "    u_1.total_revenue.sum() == t_1.revenue.sum(),\n",
    "    u_2.total_revenue.sum() == t_2.revenue.sum()\n",
    ")"
   ]
  },
  {
   "cell_type": "markdown",
   "metadata": {},
   "source": [
    "The data doesn’t add up, let’s take a closer look:"
   ]
  },
  {
   "cell_type": "code",
   "execution_count": 13,
   "metadata": {},
   "outputs": [
    {
     "data": {
      "text/html": [
       "<div>\n",
       "<style scoped>\n",
       "    .dataframe tbody tr th:only-of-type {\n",
       "        vertical-align: middle;\n",
       "    }\n",
       "\n",
       "    .dataframe tbody tr th {\n",
       "        vertical-align: top;\n",
       "    }\n",
       "\n",
       "    .dataframe thead th {\n",
       "        text-align: right;\n",
       "    }\n",
       "</style>\n",
       "<table border=\"1\" class=\"dataframe\">\n",
       "  <thead>\n",
       "    <tr style=\"text-align: right;\">\n",
       "      <th></th>\n",
       "      <th>uid</th>\n",
       "      <th>age</th>\n",
       "      <th>attraction_coeff</th>\n",
       "      <th>coins</th>\n",
       "      <th>country</th>\n",
       "      <th>visit_days</th>\n",
       "      <th>gender</th>\n",
       "      <th>age_filter_start</th>\n",
       "      <th>age_filter_end</th>\n",
       "      <th>views_count</th>\n",
       "      <th>was_premium</th>\n",
       "      <th>is_premium</th>\n",
       "      <th>total_revenue</th>\n",
       "      <th>revenue</th>\n",
       "    </tr>\n",
       "  </thead>\n",
       "  <tbody>\n",
       "    <tr>\n",
       "      <th>2070</th>\n",
       "      <td>892275462</td>\n",
       "      <td>31</td>\n",
       "      <td>310</td>\n",
       "      <td>0.0</td>\n",
       "      <td>France</td>\n",
       "      <td>1,2,3,4,5,9,13,15,16</td>\n",
       "      <td>1</td>\n",
       "      <td>36</td>\n",
       "      <td>68</td>\n",
       "      <td>58</td>\n",
       "      <td>1</td>\n",
       "      <td>1</td>\n",
       "      <td>14885</td>\n",
       "      <td>58968.0</td>\n",
       "    </tr>\n",
       "  </tbody>\n",
       "</table>\n",
       "</div>"
      ],
      "text/plain": [
       "            uid  age  attraction_coeff  coins country            visit_days  \\\n",
       "2070  892275462   31               310    0.0  France  1,2,3,4,5,9,13,15,16   \n",
       "\n",
       "      gender  age_filter_start  age_filter_end  views_count  was_premium  \\\n",
       "2070       1                36              68           58            1   \n",
       "\n",
       "      is_premium  total_revenue  revenue  \n",
       "2070           1          14885  58968.0  "
      ]
     },
     "execution_count": 13,
     "metadata": {},
     "output_type": "execute_result"
    }
   ],
   "source": [
    "revenue_test = t_test.groupby('uid').revenue.sum().reset_index()\n",
    "u_test_r = u_test.merge(revenue_test, on='uid', how='left')\n",
    "u_test_r[(u_test_r.total_revenue != u_test_r.revenue) & (u_test_r.revenue >0)]"
   ]
  },
  {
   "cell_type": "code",
   "execution_count": 14,
   "metadata": {},
   "outputs": [
    {
     "data": {
      "text/html": [
       "<div>\n",
       "<style scoped>\n",
       "    .dataframe tbody tr th:only-of-type {\n",
       "        vertical-align: middle;\n",
       "    }\n",
       "\n",
       "    .dataframe tbody tr th {\n",
       "        vertical-align: top;\n",
       "    }\n",
       "\n",
       "    .dataframe thead th {\n",
       "        text-align: right;\n",
       "    }\n",
       "</style>\n",
       "<table border=\"1\" class=\"dataframe\">\n",
       "  <thead>\n",
       "    <tr style=\"text-align: right;\">\n",
       "      <th></th>\n",
       "      <th>uid</th>\n",
       "      <th>country</th>\n",
       "      <th>joined_at</th>\n",
       "      <th>paid_at</th>\n",
       "      <th>revenue</th>\n",
       "      <th>payment_id</th>\n",
       "      <th>from_page</th>\n",
       "      <th>product_type</th>\n",
       "    </tr>\n",
       "  </thead>\n",
       "  <tbody>\n",
       "    <tr>\n",
       "      <th>64</th>\n",
       "      <td>892275462</td>\n",
       "      <td>France</td>\n",
       "      <td>2017-10-17 05:56:00</td>\n",
       "      <td>2017-02-11 18:24:00</td>\n",
       "      <td>44083</td>\n",
       "      <td>19</td>\n",
       "      <td>coins_popup</td>\n",
       "      <td>other_type</td>\n",
       "    </tr>\n",
       "    <tr>\n",
       "      <th>154</th>\n",
       "      <td>892275462</td>\n",
       "      <td>France</td>\n",
       "      <td>2017-10-17 05:56:00</td>\n",
       "      <td>2017-10-20 17:00:00</td>\n",
       "      <td>14885</td>\n",
       "      <td>68</td>\n",
       "      <td>super_popup</td>\n",
       "      <td>other_type</td>\n",
       "    </tr>\n",
       "  </tbody>\n",
       "</table>\n",
       "</div>"
      ],
      "text/plain": [
       "           uid country           joined_at             paid_at  revenue  \\\n",
       "64   892275462  France 2017-10-17 05:56:00 2017-02-11 18:24:00    44083   \n",
       "154  892275462  France 2017-10-17 05:56:00 2017-10-20 17:00:00    14885   \n",
       "\n",
       "     payment_id    from_page product_type  \n",
       "64           19  coins_popup   other_type  \n",
       "154          68  super_popup   other_type  "
      ]
     },
     "execution_count": 14,
     "metadata": {},
     "output_type": "execute_result"
    }
   ],
   "source": [
    "t_test.query('uid == 892275462')"
   ]
  },
  {
   "cell_type": "markdown",
   "metadata": {},
   "source": [
    "We see that one of the transactions was not taken into account in the table with users. Let's change the total_revenue value for this user."
   ]
  },
  {
   "cell_type": "code",
   "execution_count": 15,
   "metadata": {},
   "outputs": [
    {
     "data": {
      "text/plain": [
       "True"
      ]
     },
     "execution_count": 15,
     "metadata": {},
     "output_type": "execute_result"
    }
   ],
   "source": [
    "u_test.loc[u_test['uid'] == 892275462, 'total_revenue'] = 58968\n",
    "u_test.total_revenue.sum() == t_test.revenue.sum()"
   ]
  },
  {
   "cell_type": "markdown",
   "metadata": {},
   "source": [
    "Let's do the same operation with the first control group."
   ]
  },
  {
   "cell_type": "code",
   "execution_count": 16,
   "metadata": {},
   "outputs": [
    {
     "data": {
      "text/html": [
       "<div>\n",
       "<style scoped>\n",
       "    .dataframe tbody tr th:only-of-type {\n",
       "        vertical-align: middle;\n",
       "    }\n",
       "\n",
       "    .dataframe tbody tr th {\n",
       "        vertical-align: top;\n",
       "    }\n",
       "\n",
       "    .dataframe thead th {\n",
       "        text-align: right;\n",
       "    }\n",
       "</style>\n",
       "<table border=\"1\" class=\"dataframe\">\n",
       "  <thead>\n",
       "    <tr style=\"text-align: right;\">\n",
       "      <th></th>\n",
       "      <th>uid</th>\n",
       "      <th>age</th>\n",
       "      <th>attraction_coeff</th>\n",
       "      <th>coins</th>\n",
       "      <th>country</th>\n",
       "      <th>visit_days</th>\n",
       "      <th>gender</th>\n",
       "      <th>age_filter_start</th>\n",
       "      <th>age_filter_end</th>\n",
       "      <th>views_count</th>\n",
       "      <th>was_premium</th>\n",
       "      <th>is_premium</th>\n",
       "      <th>total_revenue</th>\n",
       "      <th>revenue</th>\n",
       "    </tr>\n",
       "  </thead>\n",
       "  <tbody>\n",
       "    <tr>\n",
       "      <th>3369</th>\n",
       "      <td>892355163</td>\n",
       "      <td>40</td>\n",
       "      <td>640</td>\n",
       "      <td>0.0</td>\n",
       "      <td>United States of America</td>\n",
       "      <td>1,2,3,4,5,6,7,8,9,10,11,12,13,14,15,16,17,18,1...</td>\n",
       "      <td>1</td>\n",
       "      <td>25</td>\n",
       "      <td>60</td>\n",
       "      <td>700</td>\n",
       "      <td>1</td>\n",
       "      <td>0</td>\n",
       "      <td>0</td>\n",
       "      <td>30264.0</td>\n",
       "    </tr>\n",
       "  </tbody>\n",
       "</table>\n",
       "</div>"
      ],
      "text/plain": [
       "            uid  age  attraction_coeff  coins                   country  \\\n",
       "3369  892355163   40               640    0.0  United States of America   \n",
       "\n",
       "                                             visit_days  gender  \\\n",
       "3369  1,2,3,4,5,6,7,8,9,10,11,12,13,14,15,16,17,18,1...       1   \n",
       "\n",
       "      age_filter_start  age_filter_end  views_count  was_premium  is_premium  \\\n",
       "3369                25              60          700            1           0   \n",
       "\n",
       "      total_revenue  revenue  \n",
       "3369              0  30264.0  "
      ]
     },
     "execution_count": 16,
     "metadata": {},
     "output_type": "execute_result"
    }
   ],
   "source": [
    "revenue_1= t_1.groupby('uid').revenue.sum().reset_index()\n",
    "u_1_r = u_1.merge(revenue_1, on='uid', how='left')\n",
    "u_1_r[(u_1_r.total_revenue != u_1_r.revenue) & (u_1_r.revenue >0)]"
   ]
  },
  {
   "cell_type": "code",
   "execution_count": 17,
   "metadata": {},
   "outputs": [
    {
     "data": {
      "text/html": [
       "<div>\n",
       "<style scoped>\n",
       "    .dataframe tbody tr th:only-of-type {\n",
       "        vertical-align: middle;\n",
       "    }\n",
       "\n",
       "    .dataframe tbody tr th {\n",
       "        vertical-align: top;\n",
       "    }\n",
       "\n",
       "    .dataframe thead th {\n",
       "        text-align: right;\n",
       "    }\n",
       "</style>\n",
       "<table border=\"1\" class=\"dataframe\">\n",
       "  <thead>\n",
       "    <tr style=\"text-align: right;\">\n",
       "      <th></th>\n",
       "      <th>uid</th>\n",
       "      <th>country</th>\n",
       "      <th>joined_at</th>\n",
       "      <th>paid_at</th>\n",
       "      <th>revenue</th>\n",
       "      <th>payment_id</th>\n",
       "      <th>from_page</th>\n",
       "      <th>product_type</th>\n",
       "    </tr>\n",
       "  </thead>\n",
       "  <tbody>\n",
       "    <tr>\n",
       "      <th>303</th>\n",
       "      <td>892355163</td>\n",
       "      <td>United States of America</td>\n",
       "      <td>2017-10-15 18:45:00</td>\n",
       "      <td>2017-10-16 09:52:00</td>\n",
       "      <td>30264</td>\n",
       "      <td>68</td>\n",
       "      <td>super_popup</td>\n",
       "      <td>other_type</td>\n",
       "    </tr>\n",
       "  </tbody>\n",
       "</table>\n",
       "</div>"
      ],
      "text/plain": [
       "           uid                   country           joined_at  \\\n",
       "303  892355163  United States of America 2017-10-15 18:45:00   \n",
       "\n",
       "                paid_at  revenue  payment_id    from_page product_type  \n",
       "303 2017-10-16 09:52:00    30264          68  super_popup   other_type  "
      ]
     },
     "execution_count": 17,
     "metadata": {},
     "output_type": "execute_result"
    }
   ],
   "source": [
    "t_1.query('uid == 892355163')"
   ]
  },
  {
   "cell_type": "code",
   "execution_count": 18,
   "metadata": {},
   "outputs": [
    {
     "data": {
      "text/plain": [
       "True"
      ]
     },
     "execution_count": 18,
     "metadata": {},
     "output_type": "execute_result"
    }
   ],
   "source": [
    "u_1.loc[u_1['uid'] == 892355163, 'total_revenue'] = 30264\n",
    "u_1.total_revenue.sum() == t_1.revenue.sum()"
   ]
  },
  {
   "cell_type": "markdown",
   "metadata": {},
   "source": [
    "Let's look for duplicates."
   ]
  },
  {
   "cell_type": "code",
   "execution_count": 19,
   "metadata": {},
   "outputs": [
    {
     "name": "stdout",
     "output_type": "stream",
     "text": [
      "0\n",
      "0\n",
      "0\n",
      "7\n",
      "21\n",
      "5\n"
     ]
    }
   ],
   "source": [
    "print(u_test.duplicated().sum(),\n",
    "      u_1.duplicated().sum(), \n",
    "      u_2.duplicated().sum(),\n",
    "      t_test.duplicated().sum(),\n",
    "      t_1.duplicated().sum(),\n",
    "      t_2.duplicated().sum(), sep='\\n')"
   ]
  },
  {
   "cell_type": "code",
   "execution_count": 20,
   "metadata": {},
   "outputs": [
    {
     "data": {
      "text/html": [
       "<div>\n",
       "<style scoped>\n",
       "    .dataframe tbody tr th:only-of-type {\n",
       "        vertical-align: middle;\n",
       "    }\n",
       "\n",
       "    .dataframe tbody tr th {\n",
       "        vertical-align: top;\n",
       "    }\n",
       "\n",
       "    .dataframe thead th {\n",
       "        text-align: right;\n",
       "    }\n",
       "</style>\n",
       "<table border=\"1\" class=\"dataframe\">\n",
       "  <thead>\n",
       "    <tr style=\"text-align: right;\">\n",
       "      <th></th>\n",
       "      <th>uid</th>\n",
       "      <th>country</th>\n",
       "      <th>joined_at</th>\n",
       "      <th>paid_at</th>\n",
       "      <th>revenue</th>\n",
       "      <th>payment_id</th>\n",
       "      <th>from_page</th>\n",
       "      <th>product_type</th>\n",
       "    </tr>\n",
       "  </thead>\n",
       "  <tbody>\n",
       "    <tr>\n",
       "      <th>86</th>\n",
       "      <td>891862596</td>\n",
       "      <td>Italy</td>\n",
       "      <td>2017-10-26 01:40:00</td>\n",
       "      <td>2017-10-30 09:01:00</td>\n",
       "      <td>1261</td>\n",
       "      <td>19</td>\n",
       "      <td>empty_likes</td>\n",
       "      <td>coins</td>\n",
       "    </tr>\n",
       "    <tr>\n",
       "      <th>235</th>\n",
       "      <td>892064328</td>\n",
       "      <td>United States of America</td>\n",
       "      <td>2017-10-21 20:54:00</td>\n",
       "      <td>2017-10-22 01:30:00</td>\n",
       "      <td>6305</td>\n",
       "      <td>19</td>\n",
       "      <td>empty_likes</td>\n",
       "      <td>coins</td>\n",
       "    </tr>\n",
       "    <tr>\n",
       "      <th>241</th>\n",
       "      <td>892009254</td>\n",
       "      <td>Italy</td>\n",
       "      <td>2017-10-22 22:57:00</td>\n",
       "      <td>2017-10-23 00:06:00</td>\n",
       "      <td>2353</td>\n",
       "      <td>67</td>\n",
       "      <td>empty_likes</td>\n",
       "      <td>other_type</td>\n",
       "    </tr>\n",
       "    <tr>\n",
       "      <th>288</th>\n",
       "      <td>892062660</td>\n",
       "      <td>United States of America</td>\n",
       "      <td>2017-10-21 21:28:00</td>\n",
       "      <td>2017-10-31 00:53:00</td>\n",
       "      <td>1261</td>\n",
       "      <td>19</td>\n",
       "      <td>empty_likes</td>\n",
       "      <td>coins</td>\n",
       "    </tr>\n",
       "    <tr>\n",
       "      <th>321</th>\n",
       "      <td>892045743</td>\n",
       "      <td>Israel</td>\n",
       "      <td>2017-10-22 07:04:00</td>\n",
       "      <td>2017-10-23 20:17:00</td>\n",
       "      <td>1261</td>\n",
       "      <td>19</td>\n",
       "      <td>empty_likes</td>\n",
       "      <td>coins</td>\n",
       "    </tr>\n",
       "  </tbody>\n",
       "</table>\n",
       "</div>"
      ],
      "text/plain": [
       "           uid                   country           joined_at  \\\n",
       "86   891862596                     Italy 2017-10-26 01:40:00   \n",
       "235  892064328  United States of America 2017-10-21 20:54:00   \n",
       "241  892009254                     Italy 2017-10-22 22:57:00   \n",
       "288  892062660  United States of America 2017-10-21 21:28:00   \n",
       "321  892045743                    Israel 2017-10-22 07:04:00   \n",
       "\n",
       "                paid_at  revenue  payment_id    from_page product_type  \n",
       "86  2017-10-30 09:01:00     1261          19  empty_likes        coins  \n",
       "235 2017-10-22 01:30:00     6305          19  empty_likes        coins  \n",
       "241 2017-10-23 00:06:00     2353          67  empty_likes   other_type  \n",
       "288 2017-10-31 00:53:00     1261          19  empty_likes        coins  \n",
       "321 2017-10-23 20:17:00     1261          19  empty_likes        coins  "
      ]
     },
     "execution_count": 20,
     "metadata": {},
     "output_type": "execute_result"
    }
   ],
   "source": [
    "t_2[t_2.duplicated()]"
   ]
  },
  {
   "cell_type": "markdown",
   "metadata": {},
   "source": [
    "Duplicates are present in the transaction dataframes; however, since the revenue of users and transactions align, everything is likely in order. It's possible that duplicates arise because seconds are not accounted for in the transaction times."
   ]
  },
  {
   "cell_type": "markdown",
   "metadata": {},
   "source": [
    "\n",
    "We have cleaned our data and brought it into a consistent form. We can move on"
   ]
  },
  {
   "cell_type": "markdown",
   "metadata": {},
   "source": [
    "## A/A - test"
   ]
  },
  {
   "cell_type": "markdown",
   "metadata": {},
   "source": [
    "Let's move on to the A/A test. We will evaluate the quality of the splitting system by checking the FPR (False Positive Rate) of our key business metrics\n",
    "\n",
    "Let's take ARPU and conversion as key metrics. Since the experiment consisted of changing the cost of a premium subscription, we will count the purchase of a premium subscription as a conversion without taking into account trial subscriptions.\n",
    "First, let's take a look at the distribution of revenue by user:"
   ]
  },
  {
   "cell_type": "code",
   "execution_count": 21,
   "metadata": {},
   "outputs": [
    {
     "data": {
      "text/plain": [
       "0"
      ]
     },
     "execution_count": 21,
     "metadata": {},
     "output_type": "execute_result"
    }
   ],
   "source": [
    "np.isinf(u_1.total_revenue).sum()"
   ]
  },
  {
   "cell_type": "code",
   "execution_count": 22,
   "metadata": {},
   "outputs": [
    {
     "name": "stdout",
     "output_type": "stream",
     "text": [
      "0.13.2\n"
     ]
    }
   ],
   "source": [
    "print(sns.__version__)"
   ]
  },
  {
   "cell_type": "code",
   "execution_count": 23,
   "metadata": {},
   "outputs": [
    {
     "data": {
      "text/plain": [
       "<seaborn.axisgrid.FacetGrid at 0x2b53e97f7d0>"
      ]
     },
     "execution_count": 23,
     "metadata": {},
     "output_type": "execute_result"
    },
    {
     "data": {
      "image/png": "[encoded data removed]",
      "text/plain": [
       "<Figure size 500x500 with 1 Axes>"
      ]
     },
     "metadata": {},
     "output_type": "display_data"
    },
    {
     "data": {
      "image/png": "[encoded data removed]",
      "text/plain": [
       "<Figure size 500x500 with 1 Axes>"
      ]
     },
     "metadata": {},
     "output_type": "display_data"
    }
   ],
   "source": [
    "sns.displot(u_1.total_revenue)\n",
    "sns.displot(u_2.total_revenue)"
   ]
  },
  {
   "cell_type": "markdown",
   "metadata": {},
   "source": [
    "As we can see, the distributions are very distorted, non-normal, and have a significant right skew due to the presence of outliers. Because of this, the t-test is unlikely to be suitable as a statistical estimator. Therefore, to compare our control groups, we will use the non-parametric Mann-Whitney method."
   ]
  },
  {
   "cell_type": "code",
   "execution_count": 24,
   "metadata": {},
   "outputs": [
    {
     "data": {
      "application/vnd.jupyter.widget-view+json": {
       "model_id": "d7d28a39bf304edd8224463ad10cc19e",
       "version_major": 2,
       "version_minor": 0
      },
      "text/plain": [
       "  0%|          | 0/1000 [00:00<?, ?it/s]"
      ]
     },
     "metadata": {},
     "output_type": "display_data"
    },
    {
     "data": {
      "image/png": "[encoded data removed]",
      "text/plain": [
       "<Figure size 640x480 with 1 Axes>"
      ]
     },
     "metadata": {},
     "output_type": "display_data"
    },
    {
     "data": {
      "text/plain": [
       "0.001"
      ]
     },
     "execution_count": 24,
     "metadata": {},
     "output_type": "execute_result"
    }
   ],
   "source": [
    "simulations = 1000\n",
    "n_s = 3000\n",
    "res = []\n",
    "\n",
    "\n",
    "# Run A/A test simulations\n",
    "for i in tqdm(range(simulations)):\n",
    "    s1 = u_1.total_revenue.sample(n_s, replace = False)\n",
    "    s2 = u_2.total_revenue.sample(n_s, replace = False)\n",
    "    res.append(stats.mannwhitneyu(s1, s2)[1]) # save p-value\n",
    "\n",
    "plt.hist(res, bins = 50)\n",
    "plt.xlabel('pvalues')\n",
    "plt.ylabel('frequency')\n",
    "plt.title(\"Histogram of ttest A/A simulations \")\n",
    "plt.show()\n",
    "\n",
    "sum(np.array(res) <0.05) / simulations"
   ]
  },
  {
   "cell_type": "markdown",
   "metadata": {},
   "source": [
    "The A/A test for ARPU passed correctly. FPR < less than the specified level 0.05."
   ]
  },
  {
   "cell_type": "markdown",
   "metadata": {},
   "source": [
    "Let's move on to conversion\n",
    "\n",
    "We only charge purchases of regular premium subscriptions for conversions. To calculate such a conversion, we need to slightly transform the data. Let's add a column that will indicate whether the user has signed up for a premium subscription without taking into account the trial version."
   ]
  },
  {
   "cell_type": "code",
   "execution_count": 25,
   "metadata": {},
   "outputs": [],
   "source": [
    "t_1['premium_no_trial'] = np.where(t_1['product_type'] == 'premium_no_trial', 1, 0)\n",
    "t_11 = t_1.query('product_type == \"premium_no_trial\"').drop_duplicates(subset=['uid'])\n",
    "u_1 = u_1.merge(t_11[['uid','premium_no_trial']], on='uid', how = 'left')\n",
    "u_1 = u_1.fillna(0)\n",
    "u_1['premium_no_trial'] = u_1['premium_no_trial'].astype(int)\n",
    "\n",
    "t_2['premium_no_trial'] = np.where(t_2['product_type'] == 'premium_no_trial', 1, 0)\n",
    "t_22 = t_2.query('product_type == \"premium_no_trial\"').drop_duplicates(subset=['uid'])\n",
    "u_2 = u_2.merge(t_22[['uid','premium_no_trial']], on='uid', how = 'left')\n",
    "u_2 = u_2.fillna(0)\n",
    "u_2['premium_no_trial'] = u_2['premium_no_trial'].astype(int)\n",
    "\n",
    "t_test['premium_no_trial'] = np.where(t_test['product_type'] == 'premium_no_trial', 1, 0)\n",
    "t_tt = t_test.query('product_type == \"premium_no_trial\"').drop_duplicates(subset=['uid'])\n",
    "u_test = u_test.merge(t_tt[['uid','premium_no_trial']], on='uid', how = 'left')\n",
    "u_test = u_test.fillna(0)\n",
    "u_test['premium_no_trial'] = u_test['premium_no_trial'].astype(int)"
   ]
  },
  {
   "cell_type": "markdown",
   "metadata": {},
   "source": [
    "Conversion is a categorical variable - this means we can use the chi-square test to test the difference in conversions between two control groups."
   ]
  },
  {
   "cell_type": "code",
   "execution_count": 26,
   "metadata": {},
   "outputs": [
    {
     "data": {
      "application/vnd.jupyter.widget-view+json": {
       "model_id": "e5283b9a306e4bd3bc89801ee372f406",
       "version_major": 2,
       "version_minor": 0
      },
      "text/plain": [
       "  0%|          | 0/1000 [00:00<?, ?it/s]"
      ]
     },
     "metadata": {},
     "output_type": "display_data"
    },
    {
     "data": {
      "image/png": "[encoded data removed]",
      "text/plain": [
       "<Figure size 640x480 with 1 Axes>"
      ]
     },
     "metadata": {},
     "output_type": "display_data"
    },
    {
     "data": {
      "text/plain": [
       "0.002"
      ]
     },
     "execution_count": 26,
     "metadata": {},
     "output_type": "execute_result"
    }
   ],
   "source": [
    "simulations = 1000\n",
    "n_s = 3000\n",
    "res = []\n",
    "\n",
    "\n",
    "# Run A/A test simulations\n",
    "for i in tqdm(range(simulations)):    \n",
    "    s1 = u_1.premium_no_trial.sample(n_s, replace = False)\n",
    "    s2 = u_2.premium_no_trial.sample(n_s, replace = False)\n",
    "    a_premium = s1.sum()\n",
    "    a_nopremium = s1.size - s1.sum()\n",
    "    b_premium = s2.sum()\n",
    "    b_nopremium = s2.size - s2.sum()\n",
    "    T = np.array([[a_premium, a_nopremium], [b_premium, b_nopremium]])\n",
    "    res.append(stats.chi2_contingency(T,correction=False)[1]) # save p-value\n",
    "\n",
    "plt.hist(res, bins = 50)\n",
    "plt.xlabel('pvalues')\n",
    "plt.ylabel('frequency')\n",
    "plt.title(\"Histogram of ttest A/A simulations \")\n",
    "plt.show()\n",
    "\n",
    "sum(np.array(res) <0.05) / simulations"
   ]
  },
  {
   "cell_type": "markdown",
   "metadata": {},
   "source": [
    "FPR < 0.05, everything is fine."
   ]
  },
  {
   "cell_type": "markdown",
   "metadata": {},
   "source": [
    "## A/A test results:\n",
    "\n",
    "* According to our key business metrics, the split system worked well. There is no statistical difference in ARPU or conversion between our control groups."
   ]
  },
  {
   "cell_type": "markdown",
   "metadata": {},
   "source": [
    "## A/B test to check the success of the experiment"
   ]
  },
  {
   "cell_type": "markdown",
   "metadata": {},
   "source": [
    "Let's define key metrics to verify the success of the experiment. Let's take the same metrics as for the A/A test: ARPU and conversion to premium subscriptions.\n",
    "\n",
    "Let's start with ARPU."
   ]
  },
  {
   "cell_type": "markdown",
   "metadata": {},
   "source": [
    "Let's take a look at the distribution of revenue by user."
   ]
  },
  {
   "cell_type": "code",
   "execution_count": 27,
   "metadata": {},
   "outputs": [
    {
     "data": {
      "text/plain": [
       "<seaborn.axisgrid.FacetGrid at 0x2b53f6c2c60>"
      ]
     },
     "execution_count": 27,
     "metadata": {},
     "output_type": "execute_result"
    },
    {
     "data": {
      "image/png": "[encoded data removed]",
      "text/plain": [
       "<Figure size 500x500 with 1 Axes>"
      ]
     },
     "metadata": {},
     "output_type": "display_data"
    }
   ],
   "source": [
    "sns.displot(u_test.total_revenue)"
   ]
  },
  {
   "cell_type": "markdown",
   "metadata": {},
   "source": [
    "Just as in the control groups, the majority of users are on the left side of the graph, or more precisely, at zero, since the vast majority of users did not make a single purchase.\n",
    "\n",
    "For ease of analysis, we transform this data. First, let's combine our control groups. Let’s add one to the revenue of each user and perform a logarithm,\n",
    "to smooth out the distribution and bring it closer to normal."
   ]
  },
  {
   "cell_type": "code",
   "execution_count": 28,
   "metadata": {},
   "outputs": [],
   "source": [
    "u_control = pd.concat([u_1, u_2])"
   ]
  },
  {
   "cell_type": "code",
   "execution_count": 29,
   "metadata": {},
   "outputs": [],
   "source": [
    "u_test['log_revenue'] = np.log(u_test.total_revenue+1)\n",
    "u_control['log_revenue'] = np.log(u_control.total_revenue+1)"
   ]
  },
  {
   "cell_type": "markdown",
   "metadata": {},
   "source": [
    "Let's compare the average values ​​of logarithmic revenue between the test and control groups. To do this, we use Welch’s t-test to exclude the condition on the difference in variances."
   ]
  },
  {
   "cell_type": "code",
   "execution_count": 30,
   "metadata": {},
   "outputs": [
    {
     "data": {
      "text/plain": [
       "TtestResult(statistic=-2.5169793011763764, pvalue=0.01185312647594008, df=9372.80679844489)"
      ]
     },
     "execution_count": 30,
     "metadata": {},
     "output_type": "execute_result"
    }
   ],
   "source": [
    "stats.ttest_ind(u_test.log_revenue, u_control.log_revenue, equal_var=False)"
   ]
  },
  {
   "cell_type": "markdown",
   "metadata": {},
   "source": [
    "The p-value is less than the standard level of significance at 0.05, which means that the means in our groups differ significantly. However, what does this specifically mean? Let's look at the original means:"
   ]
  },
  {
   "cell_type": "code",
   "execution_count": 31,
   "metadata": {},
   "outputs": [
    {
     "name": "stdout",
     "output_type": "stream",
     "text": [
      "544.3131383472609\n",
      "526.7863535975822\n"
     ]
    }
   ],
   "source": [
    "print(u_test.total_revenue.mean(), u_control.total_revenue.mean(), sep='\\n')"
   ]
  },
  {
   "cell_type": "markdown",
   "metadata": {},
   "source": [
    "We see that the mean in the test group is higher than in the control group. It's worth noting that the actual mean values are heavily distorted by the presence of a large number of zero values.\n",
    "\n",
    "Let's take a look at the overall conversion. To do this, we'll calculate the number of users who made at least one purchase and divide this number by the total number of users."
   ]
  },
  {
   "cell_type": "code",
   "execution_count": 32,
   "metadata": {},
   "outputs": [
    {
     "name": "stdout",
     "output_type": "stream",
     "text": [
      "Number of users without purchases in the test group: 4162\n",
      "Total number of users in the test group: 4308\n",
      "Сonversion: 3.4 %\n",
      "Number of users without purchases in the control group: 8224\n",
      "Total number of users in the control group: 8603\n",
      "Conversion: 4.4 %\n"
     ]
    }
   ],
   "source": [
    "print('Number of users without purchases in the test group:', u_test[u_test.total_revenue ==0].shape[0])\n",
    "print('Total number of users in the test group:', u_test.shape[0])\n",
    "print('Сonversion:', round(u_test[u_test.total_revenue >0].shape[0]/u_test.shape[0]*100,1),'%')\n",
    "print('Number of users without purchases in the control group:', u_control[u_control.total_revenue ==0].shape[0])\n",
    "print('Total number of users in the control group:', u_control.shape[0])\n",
    "print('Conversion:', round(u_control[u_control.total_revenue >0].shape[0]/u_control.shape[0]*100,1),'%')\n"
   ]
  },
  {
   "cell_type": "code",
   "execution_count": 33,
   "metadata": {},
   "outputs": [
    {
     "name": "stdout",
     "output_type": "stream",
     "text": [
      "18.44700979542713 23.207256539984154\n"
     ]
    }
   ],
   "source": [
    "print((u_test[u_test.total_revenue >0].shape[0]/u_test.shape[0])*u_test.total_revenue.mean(), \n",
    "      (u_control[u_control.total_revenue >0].shape[0]/u_control.shape[0])*u_control.total_revenue.mean())                                  "
   ]
  },
  {
   "cell_type": "markdown",
   "metadata": {},
   "source": [
    "By calculating the expected revenue, we can see that the expected value for the test group is lower than for the control group, despite the fact that the ARPU for the test group was higher. This is all due to the fact that the conversion rate in the test group is significantly lower than in the control group."
   ]
  },
  {
   "cell_type": "code",
   "execution_count": 34,
   "metadata": {},
   "outputs": [
    {
     "name": "stdout",
     "output_type": "stream",
     "text": [
      "0.3153806788752927\n",
      "0.39757506306745943\n"
     ]
    }
   ],
   "source": [
    "print(u_test.log_revenue.mean(), u_control.log_revenue.mean(), sep='\\n')"
   ]
  },
  {
   "cell_type": "markdown",
   "metadata": {},
   "source": [
    "Looking at the averages of the logarithmic values, we also see that the mean of the test group is lower than the means of the control group.\n",
    "\n",
    "**Summing up**: The t-test showed statistical differences between revenue in the test and control groups. However, these differences are negative, not positive, which means that our experiment had a negative impact on ARPU and future revenue"
   ]
  },
  {
   "cell_type": "markdown",
   "metadata": {},
   "source": [
    "Let's turn to the second metric we chose: premium subscription conversions. To calculate the differences between conversions, we will use chi-square."
   ]
  },
  {
   "cell_type": "code",
   "execution_count": 35,
   "metadata": {},
   "outputs": [
    {
     "data": {
      "text/plain": [
       "0.003329986397413256"
      ]
     },
     "execution_count": 35,
     "metadata": {},
     "output_type": "execute_result"
    }
   ],
   "source": [
    "s1 = u_test.premium_no_trial\n",
    "s2 = u_control.premium_no_trial\n",
    "a_premium = s1.sum()\n",
    "a_nopremium = s1.size - s1.sum()\n",
    "b_premium = s2.sum()\n",
    "b_nopremium = s2.size - s2.sum()\n",
    "T = np.array([[a_premium, a_nopremium], [b_premium, b_nopremium]])\n",
    "chi2, p, dof, expected = stats.chi2_contingency(T,correction=False)\n",
    "p"
   ]
  },
  {
   "cell_type": "markdown",
   "metadata": {},
   "source": [
    "P-value < our significance level, indicating significant differences. Now let's calculate the conversion:"
   ]
  },
  {
   "cell_type": "code",
   "execution_count": 36,
   "metadata": {},
   "outputs": [
    {
     "name": "stdout",
     "output_type": "stream",
     "text": [
      "Conversion in the test group: 0.016 , conversion in the control group 0.023\n"
     ]
    }
   ],
   "source": [
    "a_premium = a_premium / (a_premium + a_nopremium)\n",
    "b_premium = b_premium / (b_premium + b_nopremium)\n",
    "print('Conversion in the test group:', round(a_premium, 3), ', conversion in the control group', round(b_premium, 3))"
   ]
  },
  {
   "cell_type": "markdown",
   "metadata": {},
   "source": [
    "We see that conversion has decreased significantly."
   ]
  },
  {
   "cell_type": "markdown",
   "metadata": {},
   "source": [
    "# A/B test results\n",
    "\n",
    "We conducted A/B testing to compare two key metrics after the experiment: ARPU and conversion to premium subscription. Although statistical tests showed significant differences between the test and control groups, we see that these are negative differences: ARPU did not grow as much as to compensate for the drop in conversions, conversions to premium subscriptions also fell. The experiment can be considered a failure."
   ]
  },
  {
   "cell_type": "markdown",
   "metadata": {},
   "source": [
    "Let's try to analyze whether the innovation makes sense among any specific user groups.\n",
    "\n",
    "Let's take gender. For comparison, we will use the Welsh criterion."
   ]
  },
  {
   "cell_type": "code",
   "execution_count": 40,
   "metadata": {},
   "outputs": [
    {
     "data": {
      "text/plain": [
       "TtestResult(statistic=-1.611486476012376, pvalue=0.1076357088685938, df=561.4519090612969)"
      ]
     },
     "execution_count": 40,
     "metadata": {},
     "output_type": "execute_result"
    }
   ],
   "source": [
    "a4 = u_test[u_test.gender == 0].log_revenue\n",
    "a5 = u_control[u_control.gender == 0].log_revenue\n",
    "stats.ttest_ind(a4,a5, equal_var=False)"
   ]
  },
  {
   "cell_type": "code",
   "execution_count": 38,
   "metadata": {},
   "outputs": [
    {
     "data": {
      "text/plain": [
       "TtestResult(statistic=-2.294309397220904, pvalue=0.02179601482481449, df=8859.276960794903)"
      ]
     },
     "execution_count": 38,
     "metadata": {},
     "output_type": "execute_result"
    }
   ],
   "source": [
    "a4 = u_test[u_test.gender == 1].log_revenue\n",
    "a5 = u_control[u_control.gender == 1].log_revenue\n",
    "stats.ttest_ind(a4,a5, equal_var=False)"
   ]
  },
  {
   "cell_type": "code",
   "execution_count": 39,
   "metadata": {},
   "outputs": [
    {
     "name": "stdout",
     "output_type": "stream",
     "text": [
      "0.32626319794597464 0.403977860572328\n"
     ]
    }
   ],
   "source": [
    "print(u_test[u_test.gender == 1].log_revenue.mean(), \n",
    "      u_control[u_control.gender == 1].log_revenue.mean())"
   ]
  },
  {
   "cell_type": "markdown",
   "metadata": {},
   "source": [
    "For gender 0 there is no statistical difference, for gender 1 there is a difference between the test and control group, however if we look again at the logarithmized means we see that the test group values are less than the control group.\n",
    "\n",
    "Since the number of conversions to premium subscription for gender 0 is zero in the test group,\n",
    "analyzing conversion by gender groups does not make sense."
   ]
  },
  {
   "cell_type": "markdown",
   "metadata": {},
   "source": [
    "## Experiment Summary\n",
    "\n",
    "Based on the results of the repeated A/B testing, the experiment can be deemed **unsuccessful**: the conversion rate significantly decreased, and while the nominal ARPU increased, the expected revenue and logarithmic ARPU values for the test group turned out to be the lowest. All of this will ultimately lead to a decrease in revenue."
   ]
  }
 ],
 "metadata": {
  "kernelspec": {
   "display_name": "Python 3 (ipykernel)",
   "language": "python",
   "name": "python3"
  },
  "language_info": {
   "codemirror_mode": {
    "name": "ipython",
    "version": 3
   },
   "file_extension": ".py",
   "mimetype": "text/x-python",
   "name": "python",
   "nbconvert_exporter": "python",
   "pygments_lexer": "ipython3",
   "version": "3.12.2"
  }
 },
 "nbformat": 4,
 "nbformat_minor": 4
}
